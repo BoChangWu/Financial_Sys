{
 "cells": [
  {
   "cell_type": "code",
   "execution_count": 6,
   "id": "3d39f8ea",
   "metadata": {},
   "outputs": [],
   "source": [
    "import shioaji as sj"
   ]
  },
  {
   "cell_type": "code",
   "execution_count": 7,
   "id": "0f73ea3f",
   "metadata": {},
   "outputs": [
    {
     "name": "stdout",
     "output_type": "stream",
     "text": [
      "1.1.0\n"
     ]
    }
   ],
   "source": [
    "print(sj.__version__)"
   ]
  },
  {
   "cell_type": "code",
   "execution_count": 10,
   "id": "a8fcbb21",
   "metadata": {
    "scrolled": true
   },
   "outputs": [
    {
     "name": "stdout",
     "output_type": "stream",
     "text": [
      "Response Code: 0 | Event Code: 2 | Info: solClientOS.c:5745                   (000014e0) Peer closed socket, fd 3136, cannot read | Event: Session connection attempt failed\n"
     ]
    },
    {
     "ename": "TimeoutError",
     "evalue": "Topic: api/v1/auth/token_login, Corr: c1, Client: PYAPI/EmUYxxnhn5/0302/073942/916077/LOGINING, payload: {'msg': 'BFL6Dyi2J5SWJHEuZTWD8SqCwd6BFeXkcSKrRkXgHWEnowGuQUteujz6XGmYAwFoz7Rh49qTeBAyfaihE3jjkcH4awsjYSejqKs4xEgy2u9pw34ZLYbJiuvtmcQGx75bDiEaWqRtpkHFke118MVEbRtGa8hg39uPBnNsDRTg9MfFvstEnwsXs2PFWx', 'sign': 'BTfozmtWCySzZPvMfm9PxeQnUFDjBnHWReDb72VAX7YW8ce3xuoWD8LgHB9662Rjar8U4TACqxYd9wc66MFLGyX'}",
     "output_type": "error",
     "traceback": [
      "\u001b[1;31m---------------------------------------------------------------------------\u001b[0m",
      "\u001b[1;31mTimeoutError\u001b[0m                              Traceback (most recent call last)",
      "Input \u001b[1;32mIn [10]\u001b[0m, in \u001b[0;36m<module>\u001b[1;34m\u001b[0m\n\u001b[0;32m      1\u001b[0m api \u001b[38;5;241m=\u001b[39m sj\u001b[38;5;241m.\u001b[39mShioaji()\n\u001b[1;32m----> 3\u001b[0m \u001b[43mapi\u001b[49m\u001b[38;5;241;43m.\u001b[39;49m\u001b[43mlogin\u001b[49m\u001b[43m(\u001b[49m\n\u001b[0;32m      4\u001b[0m \u001b[43m    \u001b[49m\u001b[43mapi_key\u001b[49m\u001b[43m \u001b[49m\u001b[38;5;241;43m=\u001b[39;49m\u001b[43m \u001b[49m\u001b[38;5;124;43m\"\u001b[39;49m\u001b[38;5;124;43mEmUYxxnhn5oYTrRE4pXaeACBgpoBMBDZEq2uooCY3VYT\u001b[39;49m\u001b[38;5;124;43m\"\u001b[39;49m\u001b[43m,\u001b[49m\n\u001b[0;32m      5\u001b[0m \u001b[43m    \u001b[49m\u001b[43msecret_key\u001b[49m\u001b[43m \u001b[49m\u001b[38;5;241;43m=\u001b[39;49m\u001b[43m \u001b[49m\u001b[38;5;124;43m\"\u001b[39;49m\u001b[38;5;124;43mDFCTaqDTYDYbKtV5AK7uhKyeVZwJ2Fvw6pooksKvZnaU\u001b[39;49m\u001b[38;5;124;43m\"\u001b[39;49m\u001b[43m \u001b[49m\n\u001b[0;32m      6\u001b[0m \u001b[43m)\u001b[49m\n",
      "File \u001b[1;32m~\\AppData\\Roaming\\Python\\Python38\\site-packages\\shioaji\\shioaji.py:311\u001b[0m, in \u001b[0;36mShioaji.login\u001b[1;34m(self, api_key, secret_key, fetch_contract, contracts_timeout, contracts_cb, subscribe_trade, receive_window)\u001b[0m\n\u001b[0;32m    305\u001b[0m     accounts, contract_download \u001b[38;5;241m=\u001b[39m \u001b[38;5;28mself\u001b[39m\u001b[38;5;241m.\u001b[39m_solace\u001b[38;5;241m.\u001b[39msimulation_login(\n\u001b[0;32m    306\u001b[0m         simulation_token,\n\u001b[0;32m    307\u001b[0m         person_id,\n\u001b[0;32m    308\u001b[0m         subscribe_trade,\n\u001b[0;32m    309\u001b[0m     )\n\u001b[0;32m    310\u001b[0m \u001b[38;5;28;01melse\u001b[39;00m:\n\u001b[1;32m--> 311\u001b[0m     accounts, contract_download, person_id \u001b[38;5;241m=\u001b[39m \u001b[38;5;28;43mself\u001b[39;49m\u001b[38;5;241;43m.\u001b[39;49m\u001b[43m_solace\u001b[49m\u001b[38;5;241;43m.\u001b[39;49m\u001b[43mtoken_login\u001b[49m\u001b[43m(\u001b[49m\n\u001b[0;32m    312\u001b[0m \u001b[43m        \u001b[49m\u001b[43mapi_key\u001b[49m\u001b[43m,\u001b[49m\u001b[43m \u001b[49m\u001b[43msecret_key\u001b[49m\u001b[43m,\u001b[49m\u001b[43m \u001b[49m\u001b[43msubscribe_trade\u001b[49m\u001b[43m,\u001b[49m\u001b[43m \u001b[49m\u001b[43mreceive_window\u001b[49m\n\u001b[0;32m    313\u001b[0m \u001b[43m    \u001b[49m\u001b[43m)\u001b[49m\n\u001b[0;32m    314\u001b[0m \u001b[38;5;28;01mif\u001b[39;00m accounts:\n\u001b[0;32m    315\u001b[0m     \u001b[38;5;28;01mwith\u001b[39;00m configure_scope() \u001b[38;5;28;01mas\u001b[39;00m scope:\n",
      "File \u001b[1;32mshioaji\\backend\\solace\\api.pyx:533\u001b[0m, in \u001b[0;36mshioaji.backend.solace.api.SolaceAPI.token_login\u001b[1;34m()\u001b[0m\n",
      "File \u001b[1;32m~\\AppData\\Roaming\\Python\\Python38\\site-packages\\pysolace\\__init__.py:278\u001b[0m, in \u001b[0;36mSolClient.request\u001b[1;34m(self, topic, payload, corrid, timeout, cos, format, cb)\u001b[0m\n\u001b[0;32m    276\u001b[0m     \u001b[38;5;28mself\u001b[39m\u001b[38;5;241m.\u001b[39mrep_callback_map\u001b[38;5;241m.\u001b[39mpop(corrid, \u001b[38;5;28;01mNone\u001b[39;00m)\n\u001b[0;32m    277\u001b[0m     \u001b[38;5;28;01mif\u001b[39;00m \u001b[38;5;129;01mnot\u001b[39;00m recv\u001b[38;5;241m.\u001b[39mwait(timeout \u001b[38;5;241m/\u001b[39m \u001b[38;5;241m1000\u001b[39m):\n\u001b[1;32m--> 278\u001b[0m         \u001b[38;5;28;01mraise\u001b[39;00m \u001b[38;5;167;01mTimeoutError\u001b[39;00m(\n\u001b[0;32m    279\u001b[0m             \u001b[38;5;124m\"\u001b[39m\u001b[38;5;124mTopic: \u001b[39m\u001b[38;5;132;01m{}\u001b[39;00m\u001b[38;5;124m, Corr: \u001b[39m\u001b[38;5;132;01m{}\u001b[39;00m\u001b[38;5;124m, Client: \u001b[39m\u001b[38;5;132;01m{}\u001b[39;00m\u001b[38;5;124m, payload: \u001b[39m\u001b[38;5;132;01m{}\u001b[39;00m\u001b[38;5;124m\"\u001b[39m\u001b[38;5;241m.\u001b[39mformat(\n\u001b[0;32m    280\u001b[0m                 topic, corrid, \u001b[38;5;28mself\u001b[39m\u001b[38;5;241m.\u001b[39m_client_name, payload\n\u001b[0;32m    281\u001b[0m             )\n\u001b[0;32m    282\u001b[0m         )\n\u001b[0;32m    283\u001b[0m \u001b[38;5;28;01mreturn\u001b[39;00m resp\n",
      "\u001b[1;31mTimeoutError\u001b[0m: Topic: api/v1/auth/token_login, Corr: c1, Client: PYAPI/EmUYxxnhn5/0302/073942/916077/LOGINING, payload: {'msg': 'BFL6Dyi2J5SWJHEuZTWD8SqCwd6BFeXkcSKrRkXgHWEnowGuQUteujz6XGmYAwFoz7Rh49qTeBAyfaihE3jjkcH4awsjYSejqKs4xEgy2u9pw34ZLYbJiuvtmcQGx75bDiEaWqRtpkHFke118MVEbRtGa8hg39uPBnNsDRTg9MfFvstEnwsXs2PFWx', 'sign': 'BTfozmtWCySzZPvMfm9PxeQnUFDjBnHWReDb72VAX7YW8ce3xuoWD8LgHB9662Rjar8U4TACqxYd9wc66MFLGyX'}"
     ]
    }
   ],
   "source": [
    "api = sj.Shioaji()\n",
    "\n",
    "api.login(\n",
    "    api_key = \"EmUYxxnhn5oYTrRE4pXaeACBgpoBMBDZEq2uooCY3VYT\",\n",
    "    secret_key = \"DFCTaqDTYDYbKtV5AK7uhKyeVZwJ2Fvw6pooksKvZnaU\" \n",
    ")"
   ]
  }
 ],
 "metadata": {
  "kernelspec": {
   "display_name": "Python 3 (ipykernel)",
   "language": "python",
   "name": "python3"
  },
  "language_info": {
   "codemirror_mode": {
    "name": "ipython",
    "version": 3
   },
   "file_extension": ".py",
   "mimetype": "text/x-python",
   "name": "python",
   "nbconvert_exporter": "python",
   "pygments_lexer": "ipython3",
   "version": "3.8.12"
  }
 },
 "nbformat": 4,
 "nbformat_minor": 5
}
